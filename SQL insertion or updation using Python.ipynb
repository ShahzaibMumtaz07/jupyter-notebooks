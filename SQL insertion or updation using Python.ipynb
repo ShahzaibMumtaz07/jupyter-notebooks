{
 "cells": [
  {
   "cell_type": "markdown",
   "metadata": {},
   "source": [
    "# Importing Essentials"
   ]
  },
  {
   "cell_type": "code",
   "execution_count": 1,
   "metadata": {},
   "outputs": [],
   "source": [
    "import pandas as pd\n",
    "import numpy as np\n",
    "import sqlalchemy as sa\n",
    "from sqlalchemy import text\n",
    "import pyodbc\n",
    "import ast\n",
    "import psycopg2\n",
    "import re\n"
   ]
  },
  {
   "cell_type": "markdown",
   "metadata": {},
   "source": [
    "# Initialize Connection to SQL"
   ]
  },
  {
   "cell_type": "markdown",
   "metadata": {},
   "source": [
    "## PostgreSQL"
   ]
  },
  {
   "cell_type": "code",
   "execution_count": 42,
   "metadata": {},
   "outputs": [],
   "source": [
    "engine_source = 'postgresql+psycopg2'\n",
    "user = ''\n",
    "password = ''\n",
    "host = ''\n",
    "port = 5432\n",
    "database = ''"
   ]
  },
  {
   "cell_type": "code",
   "execution_count": 43,
   "metadata": {},
   "outputs": [],
   "source": [
    "## using batch mode increases the efficiency of bulk insert\n",
    "engine = sa.create_engine('{0}://{1}:{2}@{3}:{4}/{5}'.format(engine_source,user,password,host,port,database), use_batch_mode=True)\n"
   ]
  },
  {
   "cell_type": "markdown",
   "metadata": {},
   "source": [
    "## SQL Server"
   ]
  },
  {
   "cell_type": "code",
   "execution_count": 18,
   "metadata": {},
   "outputs": [],
   "source": [
    "engine_source = 'mssql+pyodbc'\n",
    "user = ''\n",
    "password = ''\n",
    "host = ''\n",
    "port = 1433\n",
    "database = ''\n",
    "client = 'SQL+Server+Native+Client+11.0'"
   ]
  },
  {
   "cell_type": "code",
   "execution_count": null,
   "metadata": {},
   "outputs": [],
   "source": []
  },
  {
   "cell_type": "code",
   "execution_count": 40,
   "metadata": {},
   "outputs": [],
   "source": [
    "## using fast_executemany - True increases the efficiency of bulk insert\n",
    "engine = sa.create_engine(\"{0}://{1}:{2}@{3},{4}/{5}?driver={6}\".format(engine_source,user,password,host,port,database,client),connect_args={'fast_executemany':True})"
   ]
  },
  {
   "cell_type": "markdown",
   "metadata": {},
   "source": [
    "## casting query result to Pandas DataFrame"
   ]
  },
  {
   "cell_type": "code",
   "execution_count": 31,
   "metadata": {
    "scrolled": true
   },
   "outputs": [],
   "source": [
    "query = \"\"\n",
    "df = pd.read_sql_query(query,con=engine)"
   ]
  },
  {
   "cell_type": "markdown",
   "metadata": {},
   "source": [
    "## inserting DataFrame to Database"
   ]
  },
  {
   "cell_type": "code",
   "execution_count": null,
   "metadata": {},
   "outputs": [],
   "source": [
    "table_name = ''\n",
    "df.to_sql(table_name, con = engine,if_exists = 'append',index = False)"
   ]
  },
  {
   "cell_type": "markdown",
   "metadata": {},
   "source": [
    "## updating DataFrame to Database using Primary key (MS SQL SERVER)"
   ]
  },
  {
   "cell_type": "code",
   "execution_count": null,
   "metadata": {},
   "outputs": [],
   "source": [
    "df = pd.read_clipboard(sep = '\\t') ## use sep = '\\t' if copying from excel"
   ]
  },
  {
   "cell_type": "code",
   "execution_count": 39,
   "metadata": {},
   "outputs": [],
   "source": [
    "import unidecode\n",
    "\n",
    "\n",
    "table_name = ''\n",
    "primary_key = ''\n",
    "## columns to ignore\n",
    "col_ignore = []\n",
    "cnt=1\n",
    "for column in df.columns[1:]: ## reading from column index one, missing the Primary key at index = 0\n",
    "    if not column in col_ignore:\n",
    "        for row in range(len(df)):\n",
    "            if not pd.isna(df.iloc[row][column]):\n",
    "                try:\n",
    "                    con = engine.connect().connection\n",
    "                    cursor = con.cursor()\n",
    "                    query = f\"\"\"update {table_name} set \"\"\"\n",
    "                    query = query + f\"{column} = ? where {primary_key} = ?\"\n",
    "                    val = (unidecode.unidecode(str(df.iloc[row][column])),int(df.iloc[row][primary_key]))\n",
    "#                     cursor.execute(query,val)\n",
    "                    print(query,val)\n",
    "                    con.commit()\n",
    "                    cursor.close()\n",
    "                    con.close()\n",
    "                    print(cnt)\n",
    "                    cnt+=1\n",
    "                except Exception as e:\n",
    "                    print(e)\n",
    "                    con.close()"
   ]
  },
  {
   "cell_type": "markdown",
   "metadata": {},
   "source": [
    "## updating DataFrame to Database using Primary key (PostgreSQL)"
   ]
  },
  {
   "cell_type": "code",
   "execution_count": null,
   "metadata": {},
   "outputs": [],
   "source": [
    "import unidecode\n",
    "\n",
    "\n",
    "table_name = ''\n",
    "primary_key = ''\n",
    "## columns to ignore\n",
    "col_ignore = []\n",
    "cnt=1\n",
    "for column in df.columns[1:]: ## reading from column index one, missing the Primary key at index = 0\n",
    "    if not column in col_ignore:\n",
    "        for row in range(len(df)):\n",
    "            if not pd.isna(df.iloc[row][column]):\n",
    "                try:\n",
    "                    con = engine.connect().connection\n",
    "                    cursor = con.cursor()\n",
    "                    query = f\"\"\"update {table_name} set \"\"\"\n",
    "                    query = query + f\"{column} = (%s) where {primary_key} = (%s);\"\n",
    "                    val = (unidecode.unidecode(str(df.iloc[row][column])),int(df.iloc[row][primary_key]))\n",
    "#                     cursor.execute(query,val)\n",
    "                    print(query,val)\n",
    "                    con.commit()\n",
    "                    cursor.close()\n",
    "                    con.close()\n",
    "                    print(cnt)\n",
    "                    cnt+=1\n",
    "                except Exception as e:\n",
    "                    print(e)\n",
    "                    con.close()"
   ]
  }
 ],
 "metadata": {
  "kernelspec": {
   "display_name": "Python 3",
   "language": "python",
   "name": "python3"
  },
  "language_info": {
   "codemirror_mode": {
    "name": "ipython",
    "version": 3
   },
   "file_extension": ".py",
   "mimetype": "text/x-python",
   "name": "python",
   "nbconvert_exporter": "python",
   "pygments_lexer": "ipython3",
   "version": "3.6.2"
  }
 },
 "nbformat": 4,
 "nbformat_minor": 2
}
